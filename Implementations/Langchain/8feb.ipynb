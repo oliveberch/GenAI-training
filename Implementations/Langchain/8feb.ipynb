{
 "cells": [
  {
   "cell_type": "code",
   "execution_count": 18,
   "metadata": {},
   "outputs": [
    {
     "name": "stdout",
     "output_type": "stream",
     "text": [
      "Requirement already satisfied: duckduckgo_search in d:\\revature training\\daily workspaces\\7thfeb\\venv\\lib\\site-packages (4.4)\n",
      "Requirement already satisfied: langchain_openai in d:\\revature training\\daily workspaces\\7thfeb\\venv\\lib\\site-packages (0.0.5)\n",
      "Requirement already satisfied: docstring-inheritance>=2.1.2 in d:\\revature training\\daily workspaces\\7thfeb\\venv\\lib\\site-packages (from duckduckgo_search) (2.1.2)\n",
      "Requirement already satisfied: click>=8.1.7 in d:\\revature training\\daily workspaces\\7thfeb\\venv\\lib\\site-packages (from duckduckgo_search) (8.1.7)\n",
      "Requirement already satisfied: curl-cffi>=0.6.0b7 in d:\\revature training\\daily workspaces\\7thfeb\\venv\\lib\\site-packages (from duckduckgo_search) (0.6.0b9)\n",
      "Requirement already satisfied: lxml>=4.9.3 in d:\\revature training\\daily workspaces\\7thfeb\\venv\\lib\\site-packages (from duckduckgo_search) (5.1.0)\n",
      "Requirement already satisfied: nest-asyncio>=1.6.0 in d:\\revature training\\daily workspaces\\7thfeb\\venv\\lib\\site-packages (from duckduckgo_search) (1.6.0)\n",
      "Requirement already satisfied: langchain-core<0.2,>=0.1.16 in d:\\revature training\\daily workspaces\\7thfeb\\venv\\lib\\site-packages (from langchain_openai) (0.1.21)\n",
      "Requirement already satisfied: numpy<2,>=1 in d:\\revature training\\daily workspaces\\7thfeb\\venv\\lib\\site-packages (from langchain_openai) (1.26.4)\n",
      "Requirement already satisfied: openai<2.0.0,>=1.10.0 in d:\\revature training\\daily workspaces\\7thfeb\\venv\\lib\\site-packages (from langchain_openai) (1.11.1)\n",
      "Requirement already satisfied: tiktoken<0.6.0,>=0.5.2 in d:\\revature training\\daily workspaces\\7thfeb\\venv\\lib\\site-packages (from langchain_openai) (0.5.2)\n",
      "Requirement already satisfied: colorama in d:\\revature training\\daily workspaces\\7thfeb\\venv\\lib\\site-packages (from click>=8.1.7->duckduckgo_search) (0.4.6)\n",
      "Requirement already satisfied: cffi>=1.12.0 in d:\\revature training\\daily workspaces\\7thfeb\\venv\\lib\\site-packages (from curl-cffi>=0.6.0b7->duckduckgo_search) (1.16.0)\n",
      "Requirement already satisfied: certifi in d:\\revature training\\daily workspaces\\7thfeb\\venv\\lib\\site-packages (from curl-cffi>=0.6.0b7->duckduckgo_search) (2024.2.2)\n",
      "Requirement already satisfied: PyYAML>=5.3 in d:\\revature training\\daily workspaces\\7thfeb\\venv\\lib\\site-packages (from langchain-core<0.2,>=0.1.16->langchain_openai) (6.0.1)\n",
      "Requirement already satisfied: anyio<5,>=3 in d:\\revature training\\daily workspaces\\7thfeb\\venv\\lib\\site-packages (from langchain-core<0.2,>=0.1.16->langchain_openai) (4.2.0)\n",
      "Requirement already satisfied: jsonpatch<2.0,>=1.33 in d:\\revature training\\daily workspaces\\7thfeb\\venv\\lib\\site-packages (from langchain-core<0.2,>=0.1.16->langchain_openai) (1.33)\n",
      "Requirement already satisfied: langsmith<0.0.88,>=0.0.87 in d:\\revature training\\daily workspaces\\7thfeb\\venv\\lib\\site-packages (from langchain-core<0.2,>=0.1.16->langchain_openai) (0.0.87)\n",
      "Requirement already satisfied: packaging<24.0,>=23.2 in d:\\revature training\\daily workspaces\\7thfeb\\venv\\lib\\site-packages (from langchain-core<0.2,>=0.1.16->langchain_openai) (23.2)\n",
      "Requirement already satisfied: pydantic<3,>=1 in d:\\revature training\\daily workspaces\\7thfeb\\venv\\lib\\site-packages (from langchain-core<0.2,>=0.1.16->langchain_openai) (2.6.1)\n",
      "Requirement already satisfied: requests<3,>=2 in d:\\revature training\\daily workspaces\\7thfeb\\venv\\lib\\site-packages (from langchain-core<0.2,>=0.1.16->langchain_openai) (2.31.0)\n",
      "Requirement already satisfied: tenacity<9.0.0,>=8.1.0 in d:\\revature training\\daily workspaces\\7thfeb\\venv\\lib\\site-packages (from langchain-core<0.2,>=0.1.16->langchain_openai) (8.2.3)\n",
      "Requirement already satisfied: distro<2,>=1.7.0 in d:\\revature training\\daily workspaces\\7thfeb\\venv\\lib\\site-packages (from openai<2.0.0,>=1.10.0->langchain_openai) (1.9.0)\n",
      "Requirement already satisfied: httpx<1,>=0.23.0 in d:\\revature training\\daily workspaces\\7thfeb\\venv\\lib\\site-packages (from openai<2.0.0,>=1.10.0->langchain_openai) (0.26.0)\n",
      "Requirement already satisfied: sniffio in d:\\revature training\\daily workspaces\\7thfeb\\venv\\lib\\site-packages (from openai<2.0.0,>=1.10.0->langchain_openai) (1.3.0)\n",
      "Requirement already satisfied: tqdm>4 in d:\\revature training\\daily workspaces\\7thfeb\\venv\\lib\\site-packages (from openai<2.0.0,>=1.10.0->langchain_openai) (4.66.1)\n",
      "Requirement already satisfied: typing-extensions<5,>=4.7 in d:\\revature training\\daily workspaces\\7thfeb\\venv\\lib\\site-packages (from openai<2.0.0,>=1.10.0->langchain_openai) (4.9.0)\n",
      "Requirement already satisfied: regex>=2022.1.18 in d:\\revature training\\daily workspaces\\7thfeb\\venv\\lib\\site-packages (from tiktoken<0.6.0,>=0.5.2->langchain_openai) (2023.12.25)\n",
      "Requirement already satisfied: idna>=2.8 in d:\\revature training\\daily workspaces\\7thfeb\\venv\\lib\\site-packages (from anyio<5,>=3->langchain-core<0.2,>=0.1.16->langchain_openai) (3.6)\n",
      "Requirement already satisfied: pycparser in d:\\revature training\\daily workspaces\\7thfeb\\venv\\lib\\site-packages (from cffi>=1.12.0->curl-cffi>=0.6.0b7->duckduckgo_search) (2.21)\n",
      "Requirement already satisfied: httpcore==1.* in d:\\revature training\\daily workspaces\\7thfeb\\venv\\lib\\site-packages (from httpx<1,>=0.23.0->openai<2.0.0,>=1.10.0->langchain_openai) (1.0.2)\n",
      "Requirement already satisfied: h11<0.15,>=0.13 in d:\\revature training\\daily workspaces\\7thfeb\\venv\\lib\\site-packages (from httpcore==1.*->httpx<1,>=0.23.0->openai<2.0.0,>=1.10.0->langchain_openai) (0.14.0)\n",
      "Requirement already satisfied: jsonpointer>=1.9 in d:\\revature training\\daily workspaces\\7thfeb\\venv\\lib\\site-packages (from jsonpatch<2.0,>=1.33->langchain-core<0.2,>=0.1.16->langchain_openai) (2.4)\n",
      "Requirement already satisfied: annotated-types>=0.4.0 in d:\\revature training\\daily workspaces\\7thfeb\\venv\\lib\\site-packages (from pydantic<3,>=1->langchain-core<0.2,>=0.1.16->langchain_openai) (0.6.0)\n",
      "Requirement already satisfied: pydantic-core==2.16.2 in d:\\revature training\\daily workspaces\\7thfeb\\venv\\lib\\site-packages (from pydantic<3,>=1->langchain-core<0.2,>=0.1.16->langchain_openai) (2.16.2)\n",
      "Requirement already satisfied: charset-normalizer<4,>=2 in d:\\revature training\\daily workspaces\\7thfeb\\venv\\lib\\site-packages (from requests<3,>=2->langchain-core<0.2,>=0.1.16->langchain_openai) (3.3.2)\n",
      "Requirement already satisfied: urllib3<3,>=1.21.1 in d:\\revature training\\daily workspaces\\7thfeb\\venv\\lib\\site-packages (from requests<3,>=2->langchain-core<0.2,>=0.1.16->langchain_openai) (2.2.0)\n"
     ]
    },
    {
     "name": "stderr",
     "output_type": "stream",
     "text": [
      "\n",
      "[notice] A new release of pip is available: 23.2.1 -> 24.0\n",
      "[notice] To update, run: python.exe -m pip install --upgrade pip\n"
     ]
    }
   ],
   "source": [
    "! pip install duckduckgo_search langchain_openai"
   ]
  },
  {
   "cell_type": "code",
   "execution_count": 37,
   "metadata": {},
   "outputs": [
    {
     "data": {
      "text/plain": [
       "True"
      ]
     },
     "execution_count": 37,
     "metadata": {},
     "output_type": "execute_result"
    }
   ],
   "source": [
    "from dotenv import load_dotenv\n",
    "\n",
    "load_dotenv()"
   ]
  },
  {
   "cell_type": "code",
   "execution_count": 20,
   "metadata": {},
   "outputs": [],
   "source": [
    "from langchain_openai.chat_models import ChatOpenAI\n",
    "from langchain_openai.llms import OpenAI\n",
    "from langchain_openai.chat_models import ChatOpenAI\n",
    "from langchain_openai.llms import OpenAI\n",
    "from langchain.llms.deepinfra import DeepInfra\n",
    "from langchain_experimental.chat_models import Llama2Chat\n",
    "\n",
    "\n",
    "model = ChatOpenAI(model='gpt-3.5-turbo', temperature=0.0)\n",
    "llm = OpenAI(temperature=0.0)\n",
    "\n",
    "# llm = DeepInfra(model_id=\"meta-llama/Llama-2-70b-chat-hf\")\n",
    "# model = Llama2Chat(llm=llm)\n",
    "\n"
   ]
  },
  {
   "cell_type": "code",
   "execution_count": 21,
   "metadata": {},
   "outputs": [
    {
     "name": "stdout",
     "output_type": "stream",
     "text": [
      "Requirement already satisfied: numexpr in d:\\revature training\\daily workspaces\\7thfeb\\venv\\lib\\site-packages (2.9.0)\n",
      "Requirement already satisfied: numpy>=1.13.3 in d:\\revature training\\daily workspaces\\7thfeb\\venv\\lib\\site-packages (from numexpr) (1.26.4)\n"
     ]
    },
    {
     "name": "stderr",
     "output_type": "stream",
     "text": [
      "\n",
      "[notice] A new release of pip is available: 23.2.1 -> 24.0\n",
      "[notice] To update, run: python.exe -m pip install --upgrade pip\n"
     ]
    }
   ],
   "source": [
    "! pip install numexpr"
   ]
  },
  {
   "cell_type": "code",
   "execution_count": 22,
   "metadata": {},
   "outputs": [],
   "source": [
    "from langchain.agents import initialize_agent, load_tools\n",
    "\n",
    "tools = load_tools(\n",
    "    ['llm-math','ddg-search'],\n",
    "    llm = llm\n",
    ")"
   ]
  },
  {
   "cell_type": "code",
   "execution_count": 24,
   "metadata": {},
   "outputs": [
    {
     "name": "stdout",
     "output_type": "stream",
     "text": [
      "Requirement already satisfied: langchain in d:\\revature training\\daily workspaces\\7thfeb\\venv\\lib\\site-packages (0.1.5)\n",
      "Requirement already satisfied: PyYAML>=5.3 in d:\\revature training\\daily workspaces\\7thfeb\\venv\\lib\\site-packages (from langchain) (6.0.1)\n",
      "Requirement already satisfied: SQLAlchemy<3,>=1.4 in d:\\revature training\\daily workspaces\\7thfeb\\venv\\lib\\site-packages (from langchain) (2.0.25)\n",
      "Requirement already satisfied: aiohttp<4.0.0,>=3.8.3 in d:\\revature training\\daily workspaces\\7thfeb\\venv\\lib\\site-packages (from langchain) (3.9.3)\n",
      "Requirement already satisfied: dataclasses-json<0.7,>=0.5.7 in d:\\revature training\\daily workspaces\\7thfeb\\venv\\lib\\site-packages (from langchain) (0.6.4)\n",
      "Requirement already satisfied: jsonpatch<2.0,>=1.33 in d:\\revature training\\daily workspaces\\7thfeb\\venv\\lib\\site-packages (from langchain) (1.33)\n",
      "Requirement already satisfied: langchain-community<0.1,>=0.0.17 in d:\\revature training\\daily workspaces\\7thfeb\\venv\\lib\\site-packages (from langchain) (0.0.19)\n",
      "Requirement already satisfied: langchain-core<0.2,>=0.1.16 in d:\\revature training\\daily workspaces\\7thfeb\\venv\\lib\\site-packages (from langchain) (0.1.21)\n",
      "Requirement already satisfied: langsmith<0.1,>=0.0.83 in d:\\revature training\\daily workspaces\\7thfeb\\venv\\lib\\site-packages (from langchain) (0.0.87)\n",
      "Requirement already satisfied: numpy<2,>=1 in d:\\revature training\\daily workspaces\\7thfeb\\venv\\lib\\site-packages (from langchain) (1.26.4)\n",
      "Requirement already satisfied: pydantic<3,>=1 in d:\\revature training\\daily workspaces\\7thfeb\\venv\\lib\\site-packages (from langchain) (2.6.1)\n",
      "Requirement already satisfied: requests<3,>=2 in d:\\revature training\\daily workspaces\\7thfeb\\venv\\lib\\site-packages (from langchain) (2.31.0)\n",
      "Requirement already satisfied: tenacity<9.0.0,>=8.1.0 in d:\\revature training\\daily workspaces\\7thfeb\\venv\\lib\\site-packages (from langchain) (8.2.3)\n",
      "Requirement already satisfied: aiosignal>=1.1.2 in d:\\revature training\\daily workspaces\\7thfeb\\venv\\lib\\site-packages (from aiohttp<4.0.0,>=3.8.3->langchain) (1.3.1)\n",
      "Requirement already satisfied: attrs>=17.3.0 in d:\\revature training\\daily workspaces\\7thfeb\\venv\\lib\\site-packages (from aiohttp<4.0.0,>=3.8.3->langchain) (23.2.0)\n",
      "Requirement already satisfied: frozenlist>=1.1.1 in d:\\revature training\\daily workspaces\\7thfeb\\venv\\lib\\site-packages (from aiohttp<4.0.0,>=3.8.3->langchain) (1.4.1)\n",
      "Requirement already satisfied: multidict<7.0,>=4.5 in d:\\revature training\\daily workspaces\\7thfeb\\venv\\lib\\site-packages (from aiohttp<4.0.0,>=3.8.3->langchain) (6.0.5)\n",
      "Requirement already satisfied: yarl<2.0,>=1.0 in d:\\revature training\\daily workspaces\\7thfeb\\venv\\lib\\site-packages (from aiohttp<4.0.0,>=3.8.3->langchain) (1.9.4)\n",
      "Requirement already satisfied: marshmallow<4.0.0,>=3.18.0 in d:\\revature training\\daily workspaces\\7thfeb\\venv\\lib\\site-packages (from dataclasses-json<0.7,>=0.5.7->langchain) (3.20.2)\n",
      "Requirement already satisfied: typing-inspect<1,>=0.4.0 in d:\\revature training\\daily workspaces\\7thfeb\\venv\\lib\\site-packages (from dataclasses-json<0.7,>=0.5.7->langchain) (0.9.0)\n",
      "Requirement already satisfied: jsonpointer>=1.9 in d:\\revature training\\daily workspaces\\7thfeb\\venv\\lib\\site-packages (from jsonpatch<2.0,>=1.33->langchain) (2.4)\n",
      "Requirement already satisfied: anyio<5,>=3 in d:\\revature training\\daily workspaces\\7thfeb\\venv\\lib\\site-packages (from langchain-core<0.2,>=0.1.16->langchain) (4.2.0)\n",
      "Requirement already satisfied: packaging<24.0,>=23.2 in d:\\revature training\\daily workspaces\\7thfeb\\venv\\lib\\site-packages (from langchain-core<0.2,>=0.1.16->langchain) (23.2)\n",
      "Requirement already satisfied: annotated-types>=0.4.0 in d:\\revature training\\daily workspaces\\7thfeb\\venv\\lib\\site-packages (from pydantic<3,>=1->langchain) (0.6.0)\n",
      "Requirement already satisfied: pydantic-core==2.16.2 in d:\\revature training\\daily workspaces\\7thfeb\\venv\\lib\\site-packages (from pydantic<3,>=1->langchain) (2.16.2)\n",
      "Requirement already satisfied: typing-extensions>=4.6.1 in d:\\revature training\\daily workspaces\\7thfeb\\venv\\lib\\site-packages (from pydantic<3,>=1->langchain) (4.9.0)\n",
      "Requirement already satisfied: charset-normalizer<4,>=2 in d:\\revature training\\daily workspaces\\7thfeb\\venv\\lib\\site-packages (from requests<3,>=2->langchain) (3.3.2)\n",
      "Requirement already satisfied: idna<4,>=2.5 in d:\\revature training\\daily workspaces\\7thfeb\\venv\\lib\\site-packages (from requests<3,>=2->langchain) (3.6)\n",
      "Requirement already satisfied: urllib3<3,>=1.21.1 in d:\\revature training\\daily workspaces\\7thfeb\\venv\\lib\\site-packages (from requests<3,>=2->langchain) (2.2.0)\n",
      "Requirement already satisfied: certifi>=2017.4.17 in d:\\revature training\\daily workspaces\\7thfeb\\venv\\lib\\site-packages (from requests<3,>=2->langchain) (2024.2.2)\n",
      "Requirement already satisfied: greenlet!=0.4.17 in d:\\revature training\\daily workspaces\\7thfeb\\venv\\lib\\site-packages (from SQLAlchemy<3,>=1.4->langchain) (3.0.3)\n",
      "Requirement already satisfied: sniffio>=1.1 in d:\\revature training\\daily workspaces\\7thfeb\\venv\\lib\\site-packages (from anyio<5,>=3->langchain-core<0.2,>=0.1.16->langchain) (1.3.0)\n",
      "Requirement already satisfied: mypy-extensions>=0.3.0 in d:\\revature training\\daily workspaces\\7thfeb\\venv\\lib\\site-packages (from typing-inspect<1,>=0.4.0->dataclasses-json<0.7,>=0.5.7->langchain) (1.0.0)\n"
     ]
    },
    {
     "name": "stderr",
     "output_type": "stream",
     "text": [
      "\n",
      "[notice] A new release of pip is available: 23.2.1 -> 24.0\n",
      "[notice] To update, run: python.exe -m pip install --upgrade pip\n"
     ]
    }
   ],
   "source": [
    "! pip install --upgrade langchain\n"
   ]
  },
  {
   "cell_type": "code",
   "execution_count": 25,
   "metadata": {},
   "outputs": [
    {
     "name": "stderr",
     "output_type": "stream",
     "text": [
      "d:\\Revature Training\\Daily Workspaces\\7thFeb\\venv\\Lib\\site-packages\\langchain_core\\_api\\deprecation.py:117: LangChainDeprecationWarning: The function `initialize_agent` was deprecated in LangChain 0.1.0 and will be removed in 0.2.0. Use Use new agent constructor methods like create_react_agent, create_json_agent, create_structured_chat_agent, etc. instead.\n",
      "  warn_deprecated(\n"
     ]
    }
   ],
   "source": [
    "from langchain.agents import AgentType\n",
    "\n",
    "agent = initialize_agent(\n",
    "    agent= AgentType.ZERO_SHOT_REACT_DESCRIPTION,\n",
    "    tools=tools,\n",
    "    verbose=True,\n",
    "    llm=model,\n",
    "    handle_parsing_errors = True,\n",
    "    max_iterations = 3\n",
    ") "
   ]
  },
  {
   "cell_type": "code",
   "execution_count": null,
   "metadata": {},
   "outputs": [],
   "source": [
    "agent.invoke({\"what is log(67)\"})"
   ]
  },
  {
   "cell_type": "code",
   "execution_count": 30,
   "metadata": {},
   "outputs": [
    {
     "name": "stdout",
     "output_type": "stream",
     "text": [
      "Requirement already satisfied: redis in d:\\revature training\\daily workspaces\\7thfeb\\venv\\lib\\site-packages (5.0.1)\n"
     ]
    },
    {
     "name": "stderr",
     "output_type": "stream",
     "text": [
      "\n",
      "[notice] A new release of pip is available: 23.2.1 -> 24.0\n",
      "[notice] To update, run: python.exe -m pip install --upgrade pip\n"
     ]
    }
   ],
   "source": [
    "! pip install redis"
   ]
  },
  {
   "cell_type": "code",
   "execution_count": null,
   "metadata": {},
   "outputs": [
    {
     "ename": "",
     "evalue": "",
     "output_type": "error",
     "traceback": [
      "\u001b[1;31mFailed to start the Kernel. \n",
      "\u001b[1;31mUnable to start Kernel 'venv (Python 3.11.7)' due to a connection timeout. \n",
      "\u001b[1;31mView Jupyter <a href='command:jupyter.viewOutput'>log</a> for further details."
     ]
    }
   ],
   "source": [
    "from langchain.agents import ConversationalAgent\n",
    "from langchain.memory import ConversationBufferMemory, ConversationBufferWindowMemory, ConversationEntityMemory, ConversationSummaryBufferMemory, Conversation\n",
    "from langchain.memory.chat_message_histories import RedisChatMessageHistory\n",
    "import os\n",
    "\n",
    "chat_history= RedisChatMessageHistory(url = os.getenv('UPSTASH_REDIS_REST_URL'), session_id = 'sample')\n",
    "memory = ConversationBufferMemory(memory_key='chat_history', chat_memory= chat_history, return_messages=True)\n",
    "\n",
    "system_message = \"\"\"\\\n",
    "<system>You are an honest and helpfull agent that helps users with maths questions and general questions.</system>\n",
    "\n",
    "<user>Question</user>\n",
    "\n",
    "Answer:\n",
    "\"\"\"\n",
    "\n",
    "agent = ConversationalAgent.from_llm_and_tools(\n",
    "\n",
    "    tools=tools,\n",
    "    llm= model,\n",
    "    system_message = system_message\n",
    "    \n",
    ")\n",
    "\n",
    "\n",
    "\n",
    "agent_executor = AgentExecutor.from_agent_and_tools(\n",
    "\n",
    "    agent=agent,\n",
    "    tools=tools,\n",
    "    memory=memory,\n",
    "    handle_parsing_errors = True,\n",
    "    verbose = True\n",
    "\n",
    "    \n",
    ")"
   ]
  },
  {
   "cell_type": "code",
   "execution_count": null,
   "metadata": {},
   "outputs": [],
   "source": [
    "agent_executor.invoke({\"What is 2 power 10\"})"
   ]
  }
 ],
 "metadata": {
  "kernelspec": {
   "display_name": "venv",
   "language": "python",
   "name": "python3"
  },
  "language_info": {
   "codemirror_mode": {
    "name": "ipython",
    "version": 3
   },
   "file_extension": ".py",
   "mimetype": "text/x-python",
   "name": "python",
   "nbconvert_exporter": "python",
   "pygments_lexer": "ipython3",
   "version": "3.11.7"
  }
 },
 "nbformat": 4,
 "nbformat_minor": 2
}
