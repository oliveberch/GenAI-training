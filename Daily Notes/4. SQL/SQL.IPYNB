{
 "cells": [
  {
   "cell_type": "code",
   "execution_count": null,
   "metadata": {},
   "outputs": [],
   "source": [
    "# Harshavardhini Budde  \n",
    "pip install sqlite3\n",
    "\n"
   ]
  },
  {
   "cell_type": "code",
   "execution_count": null,
   "metadata": {},
   "outputs": [],
   "source": [
    "\n",
    "\n",
    "# Harshavardhini Budde \n",
    "import sqlite3\n",
    " \n",
    "# Connect to SQLite and create a database\n",
    "conn = sqlite3.connect(\"students_database.db\")\n",
    "cursor = conn.cursor() #cursor is like pointer or object for the database\n",
    " \n",
    "# Create a table named \"students\" write every query in excute method\n",
    "cursor.execute('''\n",
    "    CREATE TABLE IF NOT EXISTS students (\n",
    "        id INTEGER PRIMARY KEY AUTOINCREMENT,\n",
    "        roll_no INTEGER,\n",
    "        name TEXT,\n",
    "        age INTEGER,\n",
    "        grade TEXT,\n",
    "        marks INTEGER\n",
    "    )\n",
    "''')\n",
    " \n"
   ]
  },
  {
   "cell_type": "code",
   "execution_count": null,
   "metadata": {},
   "outputs": [],
   "source": [
    "\n",
    "import csv\n",
    " \n",
    "# Read data from the CSV file\n",
    "with open('students_data.csv') as f:\n",
    "    reader = csv.DictReader(f)\n",
    "    data = list(reader)\n",
    " \n",
    "# Insert data into the table\n",
    "for row in data:\n",
    "    cursor.execute(\"INSERT INTO students(roll_no, name, age, grade, marks) VALUES (?, ?, ?, ?, ?)\",\n",
    "                   (row['Roll No'], row['Name'], row['Age'], row['Grade'], row['Marks']))\n",
    " \n",
    "# Commit the changes\n",
    "conn.commit()\n",
    " \n",
    "# Close the database connection\n",
    "conn.close()\n",
    " \n"
   ]
  },
  {
   "cell_type": "code",
   "execution_count": null,
   "metadata": {},
   "outputs": [],
   "source": [
    "\n",
    "\n",
    "import sqlite3\n",
    " \n",
    "# Connect to the database\n",
    "conn = sqlite3.connect('students_database.db')  \n",
    "cursor = conn.cursor()\n",
    " \n",
    "# Execute a SELECT query on the \"students\" table\n",
    "cursor.execute('SELECT * FROM students')\n",
    " \n",
    "# Fetch all rows\n",
    "rows = cursor.fetchall()\n",
    " \n",
    "# Display the data\n",
    "for row in rows:\n",
    "    print(row)\n",
    " \n",
    "# Close the database connection\n",
    "conn.close()\n",
    " "
   ]
  }
 ],
 "metadata": {
  "language_info": {
   "name": "python"
  }
 },
 "nbformat": 4,
 "nbformat_minor": 2
}
