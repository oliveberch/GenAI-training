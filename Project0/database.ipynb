{
 "cells": [
  {
   "cell_type": "markdown",
   "metadata": {},
   "source": [
    "### Setting up SQL database with Py using sqlite3\n",
    "\n"
   ]
  },
  {
   "cell_type": "code",
   "execution_count": null,
   "metadata": {},
   "outputs": [],
   "source": [
    "pip install sqlite3"
   ]
  },
  {
   "cell_type": "markdown",
   "metadata": {},
   "source": [
    "#### Tables required for inflation analysis:\n",
    "\n",
    "After taking overview I found below metrics play critical role into how any economist generally draw analysis on state of inflation for any given country in given time frame.\n",
    "\n",
    "- Consumer Price Index\n",
    "- Producer Price Index\n",
    "- Gross Domestic Product\n",
    "- Employment Cost Index\n",
    "- Commodity Price Index\n",
    "- Housing Price Index\n",
    "\n",
    "Due to constraints of data availability and scope of this project at this stage, I have considered CPI(Consumer Price Index) and Gross Development Product(GDP) to draw analysis."
   ]
  },
  {
   "cell_type": "code",
   "execution_count": 4,
   "metadata": {},
   "outputs": [],
   "source": [
    "import sqlite3\n",
    "\n",
    "# Connect to SQLite and create a database\n",
    "conn = sqlite3.connect(\"inflation_records.db\")\n",
    "cursor = conn.cursor()\n",
    "\n",
    "# Create a table named \"GDP\"\n",
    "cursor.execute('''\n",
    "    CREATE TABLE IF NOT EXISTS GDP (\n",
    "        country TEXT,\n",
    "        code TEXT,\n",
    "        year INTEGER,\n",
    "        inflation INTEGER\n",
    "    )\n",
    "''')\n",
    "\n",
    "# Create a table named \"CPI_raw\"\n",
    "cursor.execute('''\n",
    "    CREATE TABLE IF NOT EXISTS CPI_raw (\n",
    "        CountryName TEXT,\n",
    "        CountryCode TEXT,\n",
    "        IndicatorName TEXT,\n",
    "        IndicatorCode TEXT,\n",
    "        Attribute TEXT,\n",
    "        \"1950\" FLOAT,\n",
    "        \"1951\" FLOAT,\n",
    "        \"1952\" FLOAT,\n",
    "        \"1953\" FLOAT,\n",
    "        \"1954\" FLOAT,\n",
    "        \"1955\" FLOAT,\n",
    "        \"1956\" FLOAT,\n",
    "        \"1957\" FLOAT,\n",
    "        \"1958\" FLOAT,\n",
    "        \"1959\" FLOAT,\n",
    "        \"1960\" FLOAT,\n",
    "        \"1961\" FLOAT,\n",
    "        \"1962\" FLOAT,\n",
    "        \"1963\" FLOAT,\n",
    "        \"1964\" FLOAT,\n",
    "        \"1965\" FLOAT,\n",
    "        \"1966\" FLOAT,\n",
    "        \"1967\" FLOAT,\n",
    "        \"1968\" FLOAT,\n",
    "        \"1969\" FLOAT,\n",
    "        \"1970\" FLOAT,\n",
    "        \"1971\" FLOAT,\n",
    "        \"1972\" FLOAT,\n",
    "        \"1973\" FLOAT,\n",
    "        \"1974\" FLOAT,\n",
    "        \"1975\" FLOAT,\n",
    "        \"1976\" FLOAT,\n",
    "        \"1977\" FLOAT,\n",
    "        \"1978\" FLOAT,\n",
    "        \"1979\" FLOAT,\n",
    "        \"1980\" FLOAT,\n",
    "        \"1981\" FLOAT,\n",
    "        \"1982\" FLOAT,\n",
    "        \"1983\" FLOAT,\n",
    "        \"1984\" FLOAT,\n",
    "        \"1985\" FLOAT,\n",
    "        \"1986\" FLOAT,\n",
    "        \"1987\" FLOAT,\n",
    "        \"1988\" FLOAT,\n",
    "        \"1989\" FLOAT,\n",
    "        \"1990\" FLOAT,\n",
    "        \"1991\" FLOAT,\n",
    "        \"1992\" FLOAT,\n",
    "        \"1993\" FLOAT,\n",
    "        \"1994\" FLOAT,\n",
    "        \"1995\" FLOAT,\n",
    "        \"1996\" FLOAT,\n",
    "        \"1997\" FLOAT,\n",
    "        \"1998\" FLOAT,\n",
    "        \"1999\" FLOAT,\n",
    "        \"2000\" FLOAT,\n",
    "        \"2001\" FLOAT,\n",
    "        \"2002\" FLOAT,\n",
    "        \"2003\" FLOAT,\n",
    "        \"2004\" FLOAT,\n",
    "        \"2005\" FLOAT,\n",
    "        \"2006\" FLOAT,\n",
    "        \"2007\" FLOAT,\n",
    "        \"2008\" FLOAT,\n",
    "        \"2009\" FLOAT,\n",
    "        \"2010\" FLOAT,\n",
    "        \"2011\" FLOAT,\n",
    "        \"2012\" FLOAT,\n",
    "        \"2013\" FLOAT,\n",
    "        \"2014\" FLOAT,\n",
    "        \"2015\" FLOAT,\n",
    "        \"2016\" FLOAT,\n",
    "        \"2017\" FLOAT,\n",
    "        \"2018\" FLOAT,\n",
    "        \"2019\" FLOAT,\n",
    "        \"2020\" FLOAT,\n",
    "        \"2021\" FLOAT,\n",
    "        \"2022\" FLOAT,\n",
    "        \"2023\" FLOAT,\n",
    "        CommonReferencePeriod TEXT\n",
    "    )\n",
    "''')\n",
    "\n",
    "# Commit changes and close connection\n",
    "conn.commit()\n",
    "conn.close()\n"
   ]
  },
  {
   "cell_type": "markdown",
   "metadata": {},
   "source": [
    "##### Add GDP data to table"
   ]
  },
  {
   "cell_type": "code",
   "execution_count": 7,
   "metadata": {},
   "outputs": [],
   "source": [
    "import csv\n",
    " \n",
    "# Connect to SQLite and create a database\n",
    "conn = sqlite3.connect(\"inflation_records.db\")\n",
    "cursor = conn.cursor()\n",
    "\n",
    "# Read data from the inflation-GDP CSV file\n",
    "with open('Data/inflation-gdp.csv') as f:\n",
    "    reader = csv.DictReader(f)\n",
    "    data = list(reader)\n",
    " \n",
    "# Insert data into the GDP table\n",
    "for row in data:\n",
    "    cursor.execute(\"INSERT INTO GDP(country, code, year, inflation) VALUES (?, ?, ?, ?)\",\n",
    "                   (row['Country'], row['Country Code'], row['Year'], row['Inflation']))\n",
    " \n",
    "# Commit the changes and close connection\n",
    "conn.commit()\n",
    "conn.close()"
   ]
  },
  {
   "cell_type": "markdown",
   "metadata": {},
   "source": [
    "*Display GDP data*"
   ]
  },
  {
   "cell_type": "code",
   "execution_count": null,
   "metadata": {},
   "outputs": [],
   "source": [
    "import sqlite3\n",
    " \n",
    "# Connect to the database\n",
    "conn = sqlite3.connect('inflation_records.db')  \n",
    "cursor = conn.cursor()\n",
    " \n",
    "# Execute a SELECT query on the \"students\" table\n",
    "cursor.execute('SELECT DISTINCT year FROM GDP')\n",
    " \n",
    "# Fetch all rows\n",
    "rows = cursor.fetchall()\n",
    " \n",
    "# Display the data\n",
    "for row in rows:\n",
    "    print(row)\n",
    " \n",
    "# Close the database connection\n",
    "conn.close()"
   ]
  },
  {
   "cell_type": "markdown",
   "metadata": {},
   "source": [
    "Pivot using PAndas"
   ]
  },
  {
   "cell_type": "code",
   "execution_count": null,
   "metadata": {},
   "outputs": [],
   "source": [
    "import pandas as pd"
   ]
  },
  {
   "cell_type": "markdown",
   "metadata": {},
   "source": [
    "##### Add CPI data to table"
   ]
  },
  {
   "cell_type": "code",
   "execution_count": 18,
   "metadata": {},
   "outputs": [
    {
     "ename": "KeyError",
     "evalue": "'Country Name'",
     "output_type": "error",
     "traceback": [
      "\u001b[1;31m---------------------------------------------------------------------------\u001b[0m",
      "\u001b[1;31mKeyError\u001b[0m                                  Traceback (most recent call last)",
      "Cell \u001b[1;32mIn[18], line 24\u001b[0m\n\u001b[0;32m     13\u001b[0m \u001b[38;5;66;03m# Insert data into the CPI_raw table\u001b[39;00m\n\u001b[0;32m     14\u001b[0m \u001b[38;5;28;01mfor\u001b[39;00m row \u001b[38;5;129;01min\u001b[39;00m data:\n\u001b[0;32m     15\u001b[0m     cursor\u001b[38;5;241m.\u001b[39mexecute(\u001b[38;5;124m\"\u001b[39m\u001b[38;5;124mINSERT INTO CPI_raw(CountryName, CountryCode, IndicatorName, IndicatorCode, Attribute, \u001b[39m\u001b[38;5;124m\"\u001b[39m\n\u001b[0;32m     16\u001b[0m                    \u001b[38;5;124m\"\u001b[39m\u001b[38;5;124m1950, 1951, 1952, 1953, 1954, 1955, 1956, 1957, 1958, 1959, 1960, 1961, 1962, 1963, 1964, 1965, \u001b[39m\u001b[38;5;124m\"\u001b[39m\n\u001b[0;32m     17\u001b[0m                    \u001b[38;5;124m\"\u001b[39m\u001b[38;5;124m1966, 1967, 1968, 1969, 1970, 1971, 1972, 1973, 1974, 1975, 1976, 1977, 1978, 1979, 1980, 1981, \u001b[39m\u001b[38;5;124m\"\u001b[39m\n\u001b[0;32m     18\u001b[0m                    \u001b[38;5;124m\"\u001b[39m\u001b[38;5;124m1982, 1983, 1984, 1985, 1986, 1987, 1988, 1989, 1990, 1991, 1992, 1993, 1994, 1995, 1996, 1997, \u001b[39m\u001b[38;5;124m\"\u001b[39m\n\u001b[0;32m     19\u001b[0m                    \u001b[38;5;124m\"\u001b[39m\u001b[38;5;124m1998, 1999, 2000, 2001, 2002, 2003, 2004, 2005, 2006, 2007, 2008, 2009, 2010, 2011, 2012, 2013, \u001b[39m\u001b[38;5;124m\"\u001b[39m\n\u001b[0;32m     20\u001b[0m                    \u001b[38;5;124m\"\u001b[39m\u001b[38;5;124m2014, 2015, 2016, 2017, 2018, 2019, 2020, 2021, 2022, 2023, CommonReferencePeriod) \u001b[39m\u001b[38;5;124m\"\u001b[39m\n\u001b[0;32m     21\u001b[0m                    \u001b[38;5;124m\"\u001b[39m\u001b[38;5;124mVALUES (?, ?, ?, ?, ?, ?, ?, ?, ?, ?, ?, ?, ?, ?, ?, ?, ?, ?, ?, ?, ?, ?, ?, ?, ?, ?, ?, \u001b[39m\u001b[38;5;124m\"\u001b[39m\n\u001b[0;32m     22\u001b[0m                    \u001b[38;5;124m\"\u001b[39m\u001b[38;5;124m?, ?, ?, ?, ?, ?, ?, ?, ?, ?, ?, ?, ?, ?, ?, ?, ?, ?, ?, ?, ?, ?, ?, ?, ?, ?, ?, ?, ?, ?, \u001b[39m\u001b[38;5;124m\"\u001b[39m\n\u001b[0;32m     23\u001b[0m                    \u001b[38;5;124m\"\u001b[39m\u001b[38;5;124m?, ?, ?, ?, ?, ?, ?, ?, ?, ?, ?, ?, ?, ?, ?, ?, ?, ?, ?, ?, ?, ?, ?, ?, ?, ?, ?, ?)\u001b[39m\u001b[38;5;124m\"\u001b[39m,\n\u001b[1;32m---> 24\u001b[0m                    (\u001b[43mrow\u001b[49m\u001b[43m[\u001b[49m\u001b[38;5;124;43m'\u001b[39;49m\u001b[38;5;124;43mCountry Name\u001b[39;49m\u001b[38;5;124;43m'\u001b[39;49m\u001b[43m]\u001b[49m, row[\u001b[38;5;124m'\u001b[39m\u001b[38;5;124mCountry Code\u001b[39m\u001b[38;5;124m'\u001b[39m], row[\u001b[38;5;124m'\u001b[39m\u001b[38;5;124mIndicator Name\u001b[39m\u001b[38;5;124m'\u001b[39m], row[\u001b[38;5;124m'\u001b[39m\u001b[38;5;124mIndicator Code\u001b[39m\u001b[38;5;124m'\u001b[39m], \n\u001b[0;32m     25\u001b[0m                     row[\u001b[38;5;124m'\u001b[39m\u001b[38;5;124mAttribute\u001b[39m\u001b[38;5;124m'\u001b[39m], row[\u001b[38;5;124m'\u001b[39m\u001b[38;5;124m1950\u001b[39m\u001b[38;5;124m'\u001b[39m], row[\u001b[38;5;124m'\u001b[39m\u001b[38;5;124m1951\u001b[39m\u001b[38;5;124m'\u001b[39m], row[\u001b[38;5;124m'\u001b[39m\u001b[38;5;124m1952\u001b[39m\u001b[38;5;124m'\u001b[39m], row[\u001b[38;5;124m'\u001b[39m\u001b[38;5;124m1953\u001b[39m\u001b[38;5;124m'\u001b[39m], row[\u001b[38;5;124m'\u001b[39m\u001b[38;5;124m1954\u001b[39m\u001b[38;5;124m'\u001b[39m], row[\u001b[38;5;124m'\u001b[39m\u001b[38;5;124m1955\u001b[39m\u001b[38;5;124m'\u001b[39m], \n\u001b[0;32m     26\u001b[0m                     row[\u001b[38;5;124m'\u001b[39m\u001b[38;5;124m1956\u001b[39m\u001b[38;5;124m'\u001b[39m], row[\u001b[38;5;124m'\u001b[39m\u001b[38;5;124m1957\u001b[39m\u001b[38;5;124m'\u001b[39m], row[\u001b[38;5;124m'\u001b[39m\u001b[38;5;124m1958\u001b[39m\u001b[38;5;124m'\u001b[39m], row[\u001b[38;5;124m'\u001b[39m\u001b[38;5;124m1959\u001b[39m\u001b[38;5;124m'\u001b[39m], row[\u001b[38;5;124m'\u001b[39m\u001b[38;5;124m1960\u001b[39m\u001b[38;5;124m'\u001b[39m], row[\u001b[38;5;124m'\u001b[39m\u001b[38;5;124m1961\u001b[39m\u001b[38;5;124m'\u001b[39m], row[\u001b[38;5;124m'\u001b[39m\u001b[38;5;124m1962\u001b[39m\u001b[38;5;124m'\u001b[39m], \n\u001b[0;32m     27\u001b[0m                     row[\u001b[38;5;124m'\u001b[39m\u001b[38;5;124m1963\u001b[39m\u001b[38;5;124m'\u001b[39m], row[\u001b[38;5;124m'\u001b[39m\u001b[38;5;124m1964\u001b[39m\u001b[38;5;124m'\u001b[39m], row[\u001b[38;5;124m'\u001b[39m\u001b[38;5;124m1965\u001b[39m\u001b[38;5;124m'\u001b[39m], row[\u001b[38;5;124m'\u001b[39m\u001b[38;5;124m1966\u001b[39m\u001b[38;5;124m'\u001b[39m], row[\u001b[38;5;124m'\u001b[39m\u001b[38;5;124m1967\u001b[39m\u001b[38;5;124m'\u001b[39m], row[\u001b[38;5;124m'\u001b[39m\u001b[38;5;124m1968\u001b[39m\u001b[38;5;124m'\u001b[39m], row[\u001b[38;5;124m'\u001b[39m\u001b[38;5;124m1969\u001b[39m\u001b[38;5;124m'\u001b[39m], \n\u001b[0;32m     28\u001b[0m                     row[\u001b[38;5;124m'\u001b[39m\u001b[38;5;124m1970\u001b[39m\u001b[38;5;124m'\u001b[39m], row[\u001b[38;5;124m'\u001b[39m\u001b[38;5;124m1971\u001b[39m\u001b[38;5;124m'\u001b[39m], row[\u001b[38;5;124m'\u001b[39m\u001b[38;5;124m1972\u001b[39m\u001b[38;5;124m'\u001b[39m], row[\u001b[38;5;124m'\u001b[39m\u001b[38;5;124m1973\u001b[39m\u001b[38;5;124m'\u001b[39m], row[\u001b[38;5;124m'\u001b[39m\u001b[38;5;124m1974\u001b[39m\u001b[38;5;124m'\u001b[39m], row[\u001b[38;5;124m'\u001b[39m\u001b[38;5;124m1975\u001b[39m\u001b[38;5;124m'\u001b[39m], row[\u001b[38;5;124m'\u001b[39m\u001b[38;5;124m1976\u001b[39m\u001b[38;5;124m'\u001b[39m], \n\u001b[0;32m     29\u001b[0m                     row[\u001b[38;5;124m'\u001b[39m\u001b[38;5;124m1977\u001b[39m\u001b[38;5;124m'\u001b[39m], row[\u001b[38;5;124m'\u001b[39m\u001b[38;5;124m1978\u001b[39m\u001b[38;5;124m'\u001b[39m], row[\u001b[38;5;124m'\u001b[39m\u001b[38;5;124m1979\u001b[39m\u001b[38;5;124m'\u001b[39m], row[\u001b[38;5;124m'\u001b[39m\u001b[38;5;124m1980\u001b[39m\u001b[38;5;124m'\u001b[39m], row[\u001b[38;5;124m'\u001b[39m\u001b[38;5;124m1981\u001b[39m\u001b[38;5;124m'\u001b[39m], row[\u001b[38;5;124m'\u001b[39m\u001b[38;5;124m1982\u001b[39m\u001b[38;5;124m'\u001b[39m], row[\u001b[38;5;124m'\u001b[39m\u001b[38;5;124m1983\u001b[39m\u001b[38;5;124m'\u001b[39m], \n\u001b[0;32m     30\u001b[0m                     row[\u001b[38;5;124m'\u001b[39m\u001b[38;5;124m1984\u001b[39m\u001b[38;5;124m'\u001b[39m], row[\u001b[38;5;124m'\u001b[39m\u001b[38;5;124m1985\u001b[39m\u001b[38;5;124m'\u001b[39m], row[\u001b[38;5;124m'\u001b[39m\u001b[38;5;124m1986\u001b[39m\u001b[38;5;124m'\u001b[39m], row[\u001b[38;5;124m'\u001b[39m\u001b[38;5;124m1987\u001b[39m\u001b[38;5;124m'\u001b[39m], row[\u001b[38;5;124m'\u001b[39m\u001b[38;5;124m1988\u001b[39m\u001b[38;5;124m'\u001b[39m], row[\u001b[38;5;124m'\u001b[39m\u001b[38;5;124m1989\u001b[39m\u001b[38;5;124m'\u001b[39m], row[\u001b[38;5;124m'\u001b[39m\u001b[38;5;124m1990\u001b[39m\u001b[38;5;124m'\u001b[39m], \n\u001b[0;32m     31\u001b[0m                     row[\u001b[38;5;124m'\u001b[39m\u001b[38;5;124m1991\u001b[39m\u001b[38;5;124m'\u001b[39m], row[\u001b[38;5;124m'\u001b[39m\u001b[38;5;124m1992\u001b[39m\u001b[38;5;124m'\u001b[39m], row[\u001b[38;5;124m'\u001b[39m\u001b[38;5;124m1993\u001b[39m\u001b[38;5;124m'\u001b[39m], row[\u001b[38;5;124m'\u001b[39m\u001b[38;5;124m1994\u001b[39m\u001b[38;5;124m'\u001b[39m], row[\u001b[38;5;124m'\u001b[39m\u001b[38;5;124m1995\u001b[39m\u001b[38;5;124m'\u001b[39m], row[\u001b[38;5;124m'\u001b[39m\u001b[38;5;124m1996\u001b[39m\u001b[38;5;124m'\u001b[39m], row[\u001b[38;5;124m'\u001b[39m\u001b[38;5;124m1997\u001b[39m\u001b[38;5;124m'\u001b[39m], \n\u001b[0;32m     32\u001b[0m                     row[\u001b[38;5;124m'\u001b[39m\u001b[38;5;124m1998\u001b[39m\u001b[38;5;124m'\u001b[39m], row[\u001b[38;5;124m'\u001b[39m\u001b[38;5;124m1999\u001b[39m\u001b[38;5;124m'\u001b[39m], row[\u001b[38;5;124m'\u001b[39m\u001b[38;5;124m2000\u001b[39m\u001b[38;5;124m'\u001b[39m], row[\u001b[38;5;124m'\u001b[39m\u001b[38;5;124m2001\u001b[39m\u001b[38;5;124m'\u001b[39m], row[\u001b[38;5;124m'\u001b[39m\u001b[38;5;124m2002\u001b[39m\u001b[38;5;124m'\u001b[39m], row[\u001b[38;5;124m'\u001b[39m\u001b[38;5;124m2003\u001b[39m\u001b[38;5;124m'\u001b[39m], row[\u001b[38;5;124m'\u001b[39m\u001b[38;5;124m2004\u001b[39m\u001b[38;5;124m'\u001b[39m], \n\u001b[0;32m     33\u001b[0m                     row[\u001b[38;5;124m'\u001b[39m\u001b[38;5;124m2005\u001b[39m\u001b[38;5;124m'\u001b[39m], row[\u001b[38;5;124m'\u001b[39m\u001b[38;5;124m2006\u001b[39m\u001b[38;5;124m'\u001b[39m], row[\u001b[38;5;124m'\u001b[39m\u001b[38;5;124m2007\u001b[39m\u001b[38;5;124m'\u001b[39m], row[\u001b[38;5;124m'\u001b[39m\u001b[38;5;124m2008\u001b[39m\u001b[38;5;124m'\u001b[39m], row[\u001b[38;5;124m'\u001b[39m\u001b[38;5;124m2009\u001b[39m\u001b[38;5;124m'\u001b[39m], row[\u001b[38;5;124m'\u001b[39m\u001b[38;5;124m2010\u001b[39m\u001b[38;5;124m'\u001b[39m], row[\u001b[38;5;124m'\u001b[39m\u001b[38;5;124m2011\u001b[39m\u001b[38;5;124m'\u001b[39m], \n\u001b[0;32m     34\u001b[0m                     row[\u001b[38;5;124m'\u001b[39m\u001b[38;5;124m2012\u001b[39m\u001b[38;5;124m'\u001b[39m], row[\u001b[38;5;124m'\u001b[39m\u001b[38;5;124m2013\u001b[39m\u001b[38;5;124m'\u001b[39m], row[\u001b[38;5;124m'\u001b[39m\u001b[38;5;124m2014\u001b[39m\u001b[38;5;124m'\u001b[39m], row[\u001b[38;5;124m'\u001b[39m\u001b[38;5;124m2015\u001b[39m\u001b[38;5;124m'\u001b[39m], row[\u001b[38;5;124m'\u001b[39m\u001b[38;5;124m2016\u001b[39m\u001b[38;5;124m'\u001b[39m], row[\u001b[38;5;124m'\u001b[39m\u001b[38;5;124m2017\u001b[39m\u001b[38;5;124m'\u001b[39m], row[\u001b[38;5;124m'\u001b[39m\u001b[38;5;124m2018\u001b[39m\u001b[38;5;124m'\u001b[39m], \n\u001b[0;32m     35\u001b[0m                     row[\u001b[38;5;124m'\u001b[39m\u001b[38;5;124m2019\u001b[39m\u001b[38;5;124m'\u001b[39m], row[\u001b[38;5;124m'\u001b[39m\u001b[38;5;124m2020\u001b[39m\u001b[38;5;124m'\u001b[39m], row[\u001b[38;5;124m'\u001b[39m\u001b[38;5;124m2021\u001b[39m\u001b[38;5;124m'\u001b[39m], row[\u001b[38;5;124m'\u001b[39m\u001b[38;5;124m2022\u001b[39m\u001b[38;5;124m'\u001b[39m], row[\u001b[38;5;124m'\u001b[39m\u001b[38;5;124m2023\u001b[39m\u001b[38;5;124m'\u001b[39m], row[\u001b[38;5;124m'\u001b[39m\u001b[38;5;124mCommon Reference Period\u001b[39m\u001b[38;5;124m'\u001b[39m]))\n\u001b[0;32m     37\u001b[0m \u001b[38;5;66;03m# Commit the changes and close connection\u001b[39;00m\n\u001b[0;32m     38\u001b[0m conn\u001b[38;5;241m.\u001b[39mcommit()\n",
      "\u001b[1;31mKeyError\u001b[0m: 'Country Name'"
     ]
    }
   ],
   "source": [
    "import csv\n",
    "import sqlite3\n",
    "\n",
    "# Connect to SQLite and create a database\n",
    "conn = sqlite3.connect(\"inflation_records.db\")\n",
    "cursor = conn.cursor()\n",
    "\n",
    "# Read data from the CPI_raw CSV file\n",
    "with open('Data/inflation-CPI.csv') as f:\n",
    "    reader = csv.DictReader(f)\n",
    "    data = list(reader)\n",
    "\n",
    "# Insert data into the CPI_raw table\n",
    "for row in data:\n",
    "    cursor.execute(\"INSERT INTO CPI_raw(CountryName, CountryCode, IndicatorName, IndicatorCode, Attribute, \"\n",
    "                   \"1950, 1951, 1952, 1953, 1954, 1955, 1956, 1957, 1958, 1959, 1960, 1961, 1962, 1963, 1964, 1965, \"\n",
    "                   \"1966, 1967, 1968, 1969, 1970, 1971, 1972, 1973, 1974, 1975, 1976, 1977, 1978, 1979, 1980, 1981, \"\n",
    "                   \"1982, 1983, 1984, 1985, 1986, 1987, 1988, 1989, 1990, 1991, 1992, 1993, 1994, 1995, 1996, 1997, \"\n",
    "                   \"1998, 1999, 2000, 2001, 2002, 2003, 2004, 2005, 2006, 2007, 2008, 2009, 2010, 2011, 2012, 2013, \"\n",
    "                   \"2014, 2015, 2016, 2017, 2018, 2019, 2020, 2021, 2022, 2023, CommonReferencePeriod) \"\n",
    "                   \"VALUES (?, ?, ?, ?, ?, ?, ?, ?, ?, ?, ?, ?, ?, ?, ?, ?, ?, ?, ?, ?, ?, ?, ?, ?, ?, ?, ?, \"\n",
    "                   \"?, ?, ?, ?, ?, ?, ?, ?, ?, ?, ?, ?, ?, ?, ?, ?, ?, ?, ?, ?, ?, ?, ?, ?, ?, ?, ?, ?, ?, ?, \"\n",
    "                   \"?, ?, ?, ?, ?, ?, ?, ?, ?, ?, ?, ?, ?, ?, ?, ?, ?, ?, ?, ?, ?, ?, ?, ?, ?, ?, ?, ?)\",\n",
    "                   (row['Country Name'], row['Country Code'], row['Indicator Name'], row['Indicator Code'], \n",
    "                    row['Attribute'], row['1950'], row['1951'], row['1952'], row['1953'], row['1954'], row['1955'], \n",
    "                    row['1956'], row['1957'], row['1958'], row['1959'], row['1960'], row['1961'], row['1962'], \n",
    "                    row['1963'], row['1964'], row['1965'], row['1966'], row['1967'], row['1968'], row['1969'], \n",
    "                    row['1970'], row['1971'], row['1972'], row['1973'], row['1974'], row['1975'], row['1976'], \n",
    "                    row['1977'], row['1978'], row['1979'], row['1980'], row['1981'], row['1982'], row['1983'], \n",
    "                    row['1984'], row['1985'], row['1986'], row['1987'], row['1988'], row['1989'], row['1990'], \n",
    "                    row['1991'], row['1992'], row['1993'], row['1994'], row['1995'], row['1996'], row['1997'], \n",
    "                    row['1998'], row['1999'], row['2000'], row['2001'], row['2002'], row['2003'], row['2004'], \n",
    "                    row['2005'], row['2006'], row['2007'], row['2008'], row['2009'], row['2010'], row['2011'], \n",
    "                    row['2012'], row['2013'], row['2014'], row['2015'], row['2016'], row['2017'], row['2018'], \n",
    "                    row['2019'], row['2020'], row['2021'], row['2022'], row['2023'], row['Common Reference Period']))\n",
    "\n",
    "# Commit the changes and close connection\n",
    "conn.commit()\n",
    "conn.close()\n"
   ]
  }
 ],
 "metadata": {
  "kernelspec": {
   "display_name": "Python 3",
   "language": "python",
   "name": "python3"
  },
  "language_info": {
   "codemirror_mode": {
    "name": "ipython",
    "version": 3
   },
   "file_extension": ".py",
   "mimetype": "text/x-python",
   "name": "python",
   "nbconvert_exporter": "python",
   "pygments_lexer": "ipython3",
   "version": "3.11.7"
  }
 },
 "nbformat": 4,
 "nbformat_minor": 2
}
