{
 "cells": [
  {
   "cell_type": "code",
   "execution_count": null,
   "metadata": {},
   "outputs": [],
   "source": [
    "from langchain.promptemplate import Prompt\n",
    "\n",
    "# define prompt\n",
    "prompt = PromptTemplate.from_tempplate(\"you are \")\n",
    "\n",
    "# Model\n",
    "model = ChatOpenAI(\"model type\")\n",
    "\n",
    "# Output Parser\n",
    "output_parser = TextParser()\n",
    "\n",
    "# define chain\n",
    "\n",
    "chain = LangChain(\n",
    "    prompt = prompt,\n",
    "    llm = model,\n",
    "    output_parser = output_parser\n",
    "\n",
    ")\n",
    "\n",
    "# Pinecone client setup \n",
    "client = \n",
    "\n",
    "memory = \n",
    "\n",
    "agent = create_agent(\n",
    "    prompt = prompt,\n",
    "    memory = memory\n",
    "    model = \n",
    ")\n",
    "agent.invoke(\"\")\n",
    "\n",
    "chain.invoke(task = \"print factorial of 5\", lang = \"java\")"
   ]
  }
 ],
 "metadata": {
  "language_info": {
   "name": "python"
  }
 },
 "nbformat": 4,
 "nbformat_minor": 2
}
